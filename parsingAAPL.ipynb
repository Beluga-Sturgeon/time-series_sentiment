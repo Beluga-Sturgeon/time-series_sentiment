{
 "cells": [
  {
   "cell_type": "code",
   "execution_count": 10,
   "metadata": {},
   "outputs": [],
   "source": [
    "from bs4 import BeautifulSoup, Tag\n",
    "import numpy as np\n",
    "import pandas as pd\n",
    "import torch\n",
    "import constants\n",
    "import secrets\n",
    "import re\n",
    "import requests\n",
    "import pprint\n",
    "try:\n",
    "    # For Python 3.0 and later\n",
    "    from urllib.request import urlopen\n",
    "except ImportError:\n",
    "    # Fall back to Python 2's urllib2\n",
    "    from urllib2 import urlopen\n",
    "\n",
    "import certifi\n",
    "import json"
   ]
  },
  {
   "cell_type": "code",
   "execution_count": 11,
   "metadata": {},
   "outputs": [],
   "source": [
    "def get_jsonparsed_data(url):\n",
    "\n",
    "    response = urlopen(url, cafile=certifi.where())\n",
    "    data = response.read().decode(\"utf-8\")\n",
    "    return json.loads(data)"
   ]
  },
  {
   "cell_type": "code",
   "execution_count": 18,
   "metadata": {},
   "outputs": [
    {
     "name": "stderr",
     "output_type": "stream",
     "text": [
      "C:\\Users\\trexx\\AppData\\Local\\Temp/ipykernel_11484/1748608114.py:3: DeprecationWarning: cafile, capath and cadefault are deprecated, use a custom context instead.\n",
      "  response = urlopen(url, cafile=certifi.where())\n"
     ]
    },
    {
     "name": "stdout",
     "output_type": "stream",
     "text": [
      "{'exchange': 'New York Stock Exchange',\n",
      " 'exchangeShortName': 'NYSE',\n",
      " 'name': 'TrueBlue, Inc.',\n",
      " 'price': 17.76,\n",
      " 'symbol': 'TBI',\n",
      " 'type': 'stock'}\n"
     ]
    }
   ],
   "source": [
    "alltickers = (f\"{constants.FMP_SYMBOLS_URL}?apikey={secrets.FMP_API_KEY}\")\n",
    "tickers = get_jsonparsed_data(alltickers)\n",
    "pprint.pprint(tickers[0])"
   ]
  },
  {
   "cell_type": "code",
   "execution_count": null,
   "metadata": {},
   "outputs": [],
   "source": [
    "rowOfTickers = {}\n",
    "for ticker in tickers:\n",
    "    rowOfTickers[ticker[\"symbol\"]] = 0.0\n",
    "pprint.pprint(rowOfTickers)"
   ]
  },
  {
   "cell_type": "code",
   "execution_count": 13,
   "metadata": {},
   "outputs": [
    {
     "name": "stderr",
     "output_type": "stream",
     "text": [
      "C:\\Users\\trexx\\AppData\\Local\\Temp/ipykernel_11484/1748608114.py:3: DeprecationWarning: cafile, capath and cadefault are deprecated, use a custom context instead.\n",
      "  response = urlopen(url, cafile=certifi.where())\n"
     ]
    },
    {
     "name": "stdout",
     "output_type": "stream",
     "text": [
      "100 articles retrieved\n",
      "{'image': 'https://ml.globenewswire.com/Resource/Download/8cbcce65-da96-4a80-bfe9-267aa06e618c',\n",
      " 'publishedDate': '2023-06-22T12:30:00.000Z',\n",
      " 'sentiment': 'Positive',\n",
      " 'sentimentScore': 0.9085,\n",
      " 'site': 'globenewswire',\n",
      " 'symbol': 'PXMD',\n",
      " 'text': 'Engages ShareIntel to Track Market Activity...',\n",
      " 'title': 'PaxMedica Comments on Common Stock Volatility',\n",
      " 'url': 'https://www.globenewswire.com/news-release/2023/06/22/2692923/0/en/PaxMedica-Comments-on-Common-Stock-Volatility.html'}\n"
     ]
    }
   ],
   "source": [
    "url_sentiment = (f\"https://financialmodelingprep.com/api/v4/stock-news-sentiments-rss-feed?page=1&page=200&apikey=b0446da02c01a0943a01730dc2343e34\")\n",
    "sentiment_news = get_jsonparsed_data(url_sentiment)\n",
    "print(f\"{len(sentiment_news)} articles retrieved\")\n",
    "pprint.pprint(sentiment_news[0])\n"
   ]
  },
  {
   "cell_type": "code",
   "execution_count": 14,
   "metadata": {},
   "outputs": [
    {
     "name": "stdout",
     "output_type": "stream",
     "text": [
      "1 aapl articles in this batch\n",
      "{'image': 'https://cdn.benzinga.com/files/images/story/2023/06/22/iphone_12-5724014_1920.jpg?optimize=medium&dpr=1&auto=webp&height=800&width=1456&fit=crop',\n",
      " 'publishedDate': '2023-06-22T11:55:41.000Z',\n",
      " 'sentiment': 'Positive',\n",
      " 'sentimentScore': 0.5574,\n",
      " 'site': 'benzinga',\n",
      " 'symbol': 'AAPL',\n",
      " 'text': 'On Wednesday, Apple Inc (NASDAQ: AAPL) said it had fixed two new '\n",
      "         'security faults in its iPhones and iPads that helped compromise '\n",
      "         'thousands of devices in Russia. Apple credited researchers from '\n",
      "         'Russian security software maker Kaspersky Lab for discovering the '\n",
      "         'glitches, the Washington Post reports. Apple said the fixes would '\n",
      "         'protect iPhones running iOS 15.7 or earlier versions, which became '\n",
      "         'outdated in September. ...Full story available on Benzinga.com...',\n",
      " 'title': 'Apple Patches Security Glitches in iPhones and iPads: Protection '\n",
      "          'Against Russian Hacking Attacks',\n",
      " 'url': 'https://www.benzinga.com/news/23/06/32960304/apple-patches-security-glitches-in-iphones-and-ipads-protection-against-russian-hacking-attacks'}\n"
     ]
    }
   ],
   "source": [
    "aapl_news = [x for x in sentiment_news if x[\"symbol\"] == \"AAPL\"]\n",
    "print(f\"{len(aapl_news)} aapl articles in this batch\")\n",
    "pprint.pprint(aapl_news[0])"
   ]
  },
  {
   "cell_type": "code",
   "execution_count": 15,
   "metadata": {},
   "outputs": [
    {
     "name": "stdout",
     "output_type": "stream",
     "text": [
      "         date      AAPL\n",
      "0  2023-05-23  0.821750\n",
      "1  2023-05-24  0.997400\n",
      "2  2023-05-25  0.959625\n",
      "3  2023-05-27  0.989100\n",
      "4  2023-05-28  0.995900\n"
     ]
    }
   ],
   "source": [
    "df = pd.read_csv(constants.DATA_PATH)\n",
    "print(df.head())"
   ]
  },
  {
   "cell_type": "code",
   "execution_count": 16,
   "metadata": {},
   "outputs": [
    {
     "name": "stderr",
     "output_type": "stream",
     "text": [
      "C:\\Users\\trexx\\AppData\\Local\\Temp/ipykernel_11484/1748608114.py:3: DeprecationWarning: cafile, capath and cadefault are deprecated, use a custom context instead.\n",
      "  response = urlopen(url, cafile=certifi.where())\n"
     ]
    },
    {
     "name": "stdout",
     "output_type": "stream",
     "text": [
      "          date      AAPL\n",
      "0   2023-05-23  0.821750\n",
      "1   2023-05-24  0.997400\n",
      "2   2023-05-25  0.959625\n",
      "3   2023-05-27  0.989100\n",
      "4   2023-05-28  0.995900\n",
      "5   2023-05-29  0.680800\n",
      "6   2023-05-30  0.997400\n",
      "7   2023-05-31  0.998767\n",
      "8   2023-06-01  0.984525\n",
      "9   2023-06-02  0.977900\n",
      "10  2023-06-03  0.892400\n",
      "11  2023-06-04  0.998400\n",
      "12  2023-06-05  0.982313\n",
      "13  2023-06-06  0.388678\n",
      "14  2023-06-07  0.928470\n",
      "15  2023-06-08  0.998600\n",
      "16  2023-06-09  0.996100\n",
      "17  2023-06-10  0.998500\n",
      "18  2023-06-11  0.945500\n",
      "19  2023-06-12  0.999350\n",
      "20  2023-06-13  0.995680\n",
      "21  2023-06-14  0.996480\n",
      "22  2023-06-15  0.999150\n",
      "23  2023-06-16  0.998000\n",
      "24  2023-06-18  0.992000\n",
      "25  2023-06-19  0.990260\n",
      "26  2023-06-20  0.999333\n",
      "27  2023-06-21 -0.666200\n",
      "28  2023-06-22  0.851274\n",
      "done\n"
     ]
    }
   ],
   "source": [
    "from datetime import datetime\n",
    "ticker = \"AAPL\"\n",
    "for i in range(100):\n",
    "    page = str(i)\n",
    "    url = (f\"https://financialmodelingprep.com/api/v4/stock-news-sentiments-rss-feed?page={page}&apikey=b0446da02c01a0943a01730dc2343e34\")\n",
    "    sentiment_news = get_jsonparsed_data(url)\n",
    "\n",
    "\n",
    "    for news in sentiment_news:\n",
    "        if news[\"symbol\"] == ticker:\n",
    "            dateOnly = news[\"publishedDate\"].split(\"T\")[0]\n",
    "            row = {\"date\":str(dateOnly), ticker:news[\"sentimentScore\"]}\n",
    "            df = df.append(row, ignore_index=True)\n",
    "\n",
    "collapsed_df = df.groupby('date')['AAPL'].mean().reset_index()\n",
    "\n",
    "print(collapsed_df)\n",
    "collapsed_df.to_csv(constants.DATA_PATH, index=False)\n",
    "print(\"done\")"
   ]
  },
  {
   "cell_type": "code",
   "execution_count": 17,
   "metadata": {},
   "outputs": [
    {
     "data": {
      "image/png": "[encoded data removed]",
      "text/plain": [
       "<Figure size 432x288 with 1 Axes>"
      ]
     },
     "metadata": {
      "needs_background": "light"
     },
     "output_type": "display_data"
    }
   ],
   "source": [
    "\n",
    "import matplotlib.pyplot as plt\n",
    "\n",
    "# Assuming 'constants.DATA_PATH' contains the path to your CSV file\n",
    "df = pd.read_csv(constants.DATA_PATH)\n",
    "\n",
    "# Assuming 'date' and 'AAPL' are the column names in your DataFrame\n",
    "if 'date' in df.columns and 'AAPL' in df.columns:\n",
    "    # Convert the 'date' column to datetime type\n",
    "    df['date'] = pd.to_datetime(df['date'])\n",
    "\n",
    "    # Sort the DataFrame by the 'date' column\n",
    "    df = df.sort_values('date')\n",
    "\n",
    "    # Plot the line plot\n",
    "    plt.plot(df['date'], df['AAPL'])\n",
    "\n",
    "    # Set the labels for x and y axes\n",
    "    plt.xlabel('Date')\n",
    "    plt.ylabel('Sentiment')\n",
    "\n",
    "    # Set the title of the plot\n",
    "    plt.title('Sentiment Over Time')\n",
    "\n",
    "    # Rotate the x-axis tick labels for better readability\n",
    "    plt.xticks(rotation=45)\n",
    "\n",
    "    # Display the plot\n",
    "    plt.show()"
   ]
  }
 ],
 "metadata": {
  "kernelspec": {
   "display_name": "Python 3",
   "language": "python",
   "name": "python3"
  },
  "language_info": {
   "codemirror_mode": {
    "name": "ipython",
    "version": 3
   },
   "file_extension": ".py",
   "mimetype": "text/x-python",
   "name": "python",
   "nbconvert_exporter": "python",
   "pygments_lexer": "ipython3",
   "version": "3.9.5"
  },
  "orig_nbformat": 4
 },
 "nbformat": 4,
 "nbformat_minor": 2
}
